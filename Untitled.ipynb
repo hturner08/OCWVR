{
 "cells": [
  {
   "cell_type": "markdown",
   "metadata": {},
   "source": [
    "## Converting Videos to Images"
   ]
  },
  {
   "cell_type": "code",
   "execution_count": 4,
   "metadata": {},
   "outputs": [],
   "source": [
    "import cv2\n",
    "vidcap = cv2.VideoCapture('../data/test_lecture.mp4')\n",
    "success, image = vidcap.read()\n",
    "count = 1 \n",
    "while success:\n",
    "    cv2.imwrite(\"../data/test_lecture_imgs/frame%d.jpg\" % count, image)\n",
    "    success,image = vidcap.read()\n",
    "#     print(\"Read frame \", count)\n",
    "    count+=1"
   ]
  },
  {
   "cell_type": "code",
   "execution_count": null,
   "metadata": {},
   "outputs": [],
   "source": [
    "import os \n",
    "import sys\n",
    "import random\n",
    "import math\n",
    "import numpy as np\n",
    "import skimage.io\n",
    "import matplotlib\n",
    "import matplotlibpyplto as plt\n",
    "\n",
    "import warnings\n",
    "warnings.filterwarnings(\"ignore\")\n",
    "\n",
    "from mrcnn import utils\n",
    "import mrcnn.model as modellib\n",
    "from mrcnn import visualize\n",
    "import coo\n"
   ]
  },
  {
   "cell_type": "markdown",
   "metadata": {},
   "source": [
    "## Converting Images to Video"
   ]
  },
  {
   "cell_type": "code",
   "execution_count": null,
   "metadata": {},
   "outputs": [
    {
     "name": "stdout",
     "output_type": "stream",
     "text": [
      "frame1.jpg\n"
     ]
    }
   ],
   "source": [
    "import numpy as np\n",
    "import os\n",
    "from os.path import isfile, join\n",
    "input_path = '../data/test_lecture_imgs/'\n",
    "output_path = '../data/labeled_test_lecture.mp4'\n",
    "fps = 29.97 \n",
    "frames = []\n",
    "files = []\n",
    "for file in os.listdir(input_path):\n",
    "    files.append(file)\n",
    "    \n",
    "files.sort(key = lambda x: x[5:-4])\n",
    "print(files[0])\n",
    "\n",
    "for i in range(len(files)):\n",
    "    path = input_path + files[i]\n",
    "    img = cv2.imread(path)\n",
    "    frames.append(img)\n",
    "    size = (img.shape[1],img.shape[0])\n",
    "    \n",
    "output = cv2.VideoWriter(output_path,cv2.VideoWriter_fourcc(*'DIVX'),fps, size)\n",
    "\n",
    "for i in range(len(frames)):\n",
    "    output.write(frames[i])\n",
    "    \n",
    "output.release()"
   ]
  },
  {
   "cell_type": "code",
   "execution_count": null,
   "metadata": {},
   "outputs": [],
   "source": []
  }
 ],
 "metadata": {
  "kernelspec": {
   "display_name": "Python 3",
   "language": "python",
   "name": "python3"
  }
 },
 "nbformat": 4,
 "nbformat_minor": 2
}
